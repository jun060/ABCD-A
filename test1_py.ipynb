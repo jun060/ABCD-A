{
  "nbformat": 4,
  "nbformat_minor": 0,
  "metadata": {
    "colab": {
      "provenance": [],
      "authorship_tag": "ABX9TyMaoa0BbIj/95hUjum/joKL",
      "include_colab_link": true
    },
    "kernelspec": {
      "name": "python3",
      "display_name": "Python 3"
    },
    "language_info": {
      "name": "python"
    }
  },
  "cells": [
    {
      "cell_type": "markdown",
      "metadata": {
        "id": "view-in-github",
        "colab_type": "text"
      },
      "source": [
        "<a href=\"https://colab.research.google.com/github/jun060/ABCD-A/blob/20250308/test1_py.ipynb\" target=\"_parent\"><img src=\"https://colab.research.google.com/assets/colab-badge.svg\" alt=\"Open In Colab\"/></a>"
      ]
    },
    {
      "cell_type": "code",
      "source": [
        "watch = 100000\n",
        "print(watch)"
      ],
      "metadata": {
        "colab": {
          "base_uri": "https://localhost:8080/"
        },
        "id": "0fv1e1O409P_",
        "outputId": "db57d8a4-890c-45a8-9053-2372dc94282d"
      },
      "execution_count": 1,
      "outputs": [
        {
          "output_type": "stream",
          "name": "stdout",
          "text": [
            "100000\n"
          ]
        }
      ]
    },
    {
      "cell_type": "code",
      "source": [
        "a = 'pig'\n",
        "b = 'dad'\n",
        "\n",
        "print(a)\n",
        "print(b)\n",
        "print(watch)\n",
        "print(a+b)\n",
        "print(a+' '+b)"
      ],
      "metadata": {
        "colab": {
          "base_uri": "https://localhost:8080/"
        },
        "id": "EPdn41kC1CuL",
        "outputId": "03491c55-bdb8-4325-9506-c920b6b022e0"
      },
      "execution_count": 9,
      "outputs": [
        {
          "output_type": "stream",
          "name": "stdout",
          "text": [
            "pig\n",
            "dad\n",
            "100000\n",
            "pigdad\n",
            "pig dad\n"
          ]
        }
      ]
    },
    {
      "cell_type": "code",
      "source": [
        "aa = 1\n",
        "bb = 100\n",
        "\n",
        "aa,bb = bb,aa\n",
        "print(aa)\n",
        "print(bb)"
      ],
      "metadata": {
        "colab": {
          "base_uri": "https://localhost:8080/"
        },
        "id": "u3uXAQTmfh_l",
        "outputId": "87ea308a-076e-4df3-cbfe-c630ce24091d"
      },
      "execution_count": 10,
      "outputs": [
        {
          "output_type": "stream",
          "name": "stdout",
          "text": [
            "100\n",
            "1\n"
          ]
        }
      ]
    },
    {
      "cell_type": "code",
      "source": [
        "# 예제입니다.\n",
        "\n",
        "a1 = [10,20,30]\n",
        "b1 = a1\n",
        "a1[0] = 200\n",
        "print(b1)"
      ],
      "metadata": {
        "colab": {
          "base_uri": "https://localhost:8080/"
        },
        "id": "4AM-EFt5uuFc",
        "outputId": "a6970cd6-68b8-40b0-bee7-44b80df2a81d"
      },
      "execution_count": 15,
      "outputs": [
        {
          "output_type": "stream",
          "name": "stdout",
          "text": [
            "[200, 20, 30]\n"
          ]
        }
      ]
    },
    {
      "cell_type": "code",
      "source": [
        "# print 사용 예제입니다.\n",
        "\n",
        "print(\"Hello World\")\n",
        "print('Hello World')"
      ],
      "metadata": {
        "colab": {
          "base_uri": "https://localhost:8080/"
        },
        "id": "4xcdekec2d_r",
        "outputId": "88861a95-f0c8-4e52-806e-bb653ab6f586"
      },
      "execution_count": 17,
      "outputs": [
        {
          "output_type": "stream",
          "name": "stdout",
          "text": [
            "Hello World\n",
            "Hello World\n"
          ]
        }
      ]
    },
    {
      "cell_type": "code",
      "source": [
        "print(1)\n",
        "print(\"1\")\n",
        "c =1\n",
        "print(\"c=\"+str(c))\n",
        "print(\"c=\",c)\n",
        "print(\"c={}\".format(c))"
      ],
      "metadata": {
        "colab": {
          "base_uri": "https://localhost:8080/"
        },
        "id": "_7sWOi3N3Yh5",
        "outputId": "e1aa0d26-5452-46fc-9fa2-3b98089135ae"
      },
      "execution_count": 25,
      "outputs": [
        {
          "output_type": "stream",
          "name": "stdout",
          "text": [
            "1\n",
            "1\n",
            "c=1\n",
            "c= 1\n",
            "c=1\n"
          ]
        }
      ]
    },
    {
      "cell_type": "code",
      "source": [
        "# day1 프로그램\n",
        "a = [10, 20, 30]\n",
        "b = 1\n",
        "c = 2\n",
        "print(a)\n",
        "print(\"a={}\".format(a))\n",
        "print(\"a={}\".format(b))\n",
        "print(\"a={}, b={}, c={}\".format(a, b, c))"
      ],
      "metadata": {
        "colab": {
          "base_uri": "https://localhost:8080/"
        },
        "id": "iUCB59Id4yT6",
        "outputId": "46aedfdc-1ec0-420b-bb36-9cd74cbc637d"
      },
      "execution_count": 26,
      "outputs": [
        {
          "output_type": "stream",
          "name": "stdout",
          "text": [
            "[10, 20, 30]\n",
            "a=[10, 20, 30]\n",
            "a=1\n",
            "a=[10, 20, 30], b=1, c=2\n"
          ]
        }
      ]
    }
  ]
}